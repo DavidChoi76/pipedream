{
 "cells": [
  {
   "cell_type": "code",
   "execution_count": 1,
   "metadata": {},
   "outputs": [],
   "source": [
    "import numpy as np\n",
    "import pandas as pd\n",
    "from superlink.superlink import SuperLink\n",
    "import superlink.geometry\n",
    "from data_2 import *\n",
    "import scipy.optimize\n",
    "import matplotlib.pyplot as plt\n",
    "import seaborn as sns\n",
    "\n",
    "sns.set_palette('husl')\n",
    "%matplotlib inline"
   ]
  },
  {
   "cell_type": "code",
   "execution_count": 2,
   "metadata": {},
   "outputs": [],
   "source": [
    "superjunctions = pd.DataFrame.from_dict(superjunctions, orient='index')\n",
    "superlinks = pd.DataFrame.from_dict(superlinks, orient='index')\n",
    "links = pd.concat({k: pd.DataFrame.from_dict(v, orient='index')\n",
    "                   for k,v in links.items()}, axis=0)\n",
    "junctions = pd.concat({k: pd.DataFrame.from_dict(v, orient='index')\n",
    "                       for k,v in junctions.items()}, axis=0)\n",
    "\n",
    "links = links.reset_index().set_index('level_1')\n",
    "junctions = junctions.reset_index().set_index('level_1')\n",
    "\n",
    "superjunctions['h_0'] += 1e-5\n",
    "junctions['h_0'] += 1e-5\n",
    "links['Q_0'] += 0"
   ]
  },
  {
   "cell_type": "code",
   "execution_count": 3,
   "metadata": {},
   "outputs": [],
   "source": [
    "del links['w']"
   ]
  },
  {
   "cell_type": "code",
   "execution_count": 4,
   "metadata": {},
   "outputs": [],
   "source": [
    "geom = {\n",
    "    0 : 'CIRCULAR',\n",
    "    1 : 'RECT_CLOSED',\n",
    "    2 : 'IRREGULAR',\n",
    "    3 : 'TRIANGULAR',\n",
    "    4 : 'TRAPEZOIDAL',\n",
    "    5 : 'IRREGULAR'\n",
    "}\n",
    "\n",
    "g1 = {\n",
    "    0 : 0.8,\n",
    "    1 : 0.5,\n",
    "    2 : 0,\n",
    "    3 : 0.5,\n",
    "    4 : 0.5,\n",
    "    5 : 0\n",
    "}\n",
    "\n",
    "g2 = {\n",
    "    0 : 0,\n",
    "    1 : 0.5,\n",
    "    2 : 0,\n",
    "    3 : 0.5,\n",
    "    4 : 0.5,\n",
    "    5 : 0\n",
    "}\n",
    "\n",
    "g3 = {\n",
    "    0 : 0,\n",
    "    1 : 0,\n",
    "    2 : 0,\n",
    "    3 : 0,\n",
    "    4 : 1,\n",
    "    5 : 0\n",
    "}\n",
    "\n",
    "ts = {\n",
    "    0 : None,\n",
    "    1 : None,\n",
    "    2 : 't1',\n",
    "    3 : None,\n",
    "    4 : None,\n",
    "    5 : 't2'\n",
    "}"
   ]
  },
  {
   "cell_type": "code",
   "execution_count": 5,
   "metadata": {},
   "outputs": [],
   "source": [
    "transects = {\n",
    "    't1' : {\n",
    "        'x' : 0.2 * np.array([0, 1, 1.5, 2.5, 3, 4], dtype=float),\n",
    "        'y' : 0.5 * np.array([1, 0.8, 0, 0, 0.8, 1], dtype=float),\n",
    "        'horiz_points' : 100,\n",
    "        'vert_points' : 100\n",
    "    },\n",
    "    't2' : {\n",
    "        'x' : 0.3 * np.array([0, 1, 1, 2, 2, 3], dtype=float),\n",
    "        'y' : 0.5 * np.array([1, 0.8, 0, 0, 0.8, 1], dtype=float),\n",
    "        'horiz_points' : 100,\n",
    "        'vert_points' : 100\n",
    "    },\n",
    "}"
   ]
  },
  {
   "cell_type": "code",
   "execution_count": 6,
   "metadata": {},
   "outputs": [],
   "source": [
    "transect_factory = {}\n",
    "\n",
    "for transect_name, transect in transects.items():\n",
    "    transect_factory[transect_name] = superlink.geometry.Irregular(**transect)"
   ]
  },
  {
   "cell_type": "code",
   "execution_count": 7,
   "metadata": {},
   "outputs": [],
   "source": [
    "links['geom'] = links['level_0'].map(geom)\n",
    "links['g1'] = links['level_0'].map(g1)\n",
    "links['g2'] = links['level_0'].map(g2)\n",
    "links['g3'] = links['level_0'].map(g3)\n",
    "links['ts'] = links['level_0'].map(ts)"
   ]
  },
  {
   "cell_type": "code",
   "execution_count": 8,
   "metadata": {},
   "outputs": [],
   "source": [
    "is_irregular = links['geom'].str.lower() == 'irregular'\n",
    "irregular_links = links[is_irregular]\n",
    "transect_indices = pd.Series(irregular_links.index, index=irregular_links['ts'].values)"
   ]
  },
  {
   "cell_type": "code",
   "execution_count": 9,
   "metadata": {},
   "outputs": [],
   "source": [
    "unique_geom = set(links['geom'].str.lower().unique())\n",
    "has_irregular = ('irregular' in unique_geom)\n",
    "unique_geom.discard('irregular')"
   ]
  },
  {
   "cell_type": "code",
   "execution_count": 10,
   "metadata": {},
   "outputs": [],
   "source": [
    "regular_links = links[~is_irregular]\n",
    "geom_indices = pd.Series(regular_links.index, index=regular_links['geom'].str.lower().values)"
   ]
  },
  {
   "cell_type": "code",
   "execution_count": 11,
   "metadata": {},
   "outputs": [],
   "source": [
    "_A_ik = np.zeros(len(links))\n",
    "_Pe_ik = np.zeros(len(links))\n",
    "_R_ik = np.zeros(len(links))\n",
    "_B_ik = np.zeros(len(links))"
   ]
  },
  {
   "cell_type": "code",
   "execution_count": 12,
   "metadata": {},
   "outputs": [],
   "source": [
    "for geom in unique_geom:\n",
    "    Geom = geom.title()\n",
    "    ik = geom_indices.loc[geom].values\n",
    "    ########## TODO: Temporary\n",
    "    h_Ik = np.full(ik.size, 1e-5)\n",
    "    h_Ip1k = np.full(ik.size, 1e-5)\n",
    "    ##########\n",
    "    generator = getattr(superlink.geometry, Geom)\n",
    "    g1 = links.loc[ik, 'g1'].values\n",
    "    g2 = links.loc[ik, 'g2'].values\n",
    "    g3 = links.loc[ik, 'g3'].values\n",
    "    _A_ik[ik] = generator.A_ik(h_Ik, h_Ip1k, g1=g1, g2=g2, g3=g3)\n",
    "    _Pe_ik[ik] = generator.Pe_ik(h_Ik, h_Ip1k, g1=g1, g2=g2, g3=g3)\n",
    "    _R_ik[ik] = generator.R_ik(_A_ik[ik], _Pe_ik[ik])\n",
    "    _B_ik[ik] = generator.B_ik(h_Ik, h_Ip1k, g1=g1, g2=g2, g3=g3)"
   ]
  },
  {
   "cell_type": "code",
   "execution_count": 13,
   "metadata": {},
   "outputs": [],
   "source": [
    "for transect_name, generator in transect_factory.items():\n",
    "    ik = transect_indices.loc[transect_name].values\n",
    "    ########## TODO: Temporary\n",
    "    h_Ik = np.full(ik.size, 1e-5)\n",
    "    h_Ip1k = np.full(ik.size, 1e-5)\n",
    "    ##########\n",
    "    _A_ik[ik] = generator.A_ik(h_Ik, h_Ip1k)\n",
    "    _Pe_ik[ik] = generator.Pe_ik(h_Ik, h_Ip1k)\n",
    "    _R_ik[ik] = generator.R_ik(h_Ik, h_Ip1k)\n",
    "    _B_ik[ik] = generator.B_ik(h_Ik, h_Ip1k)"
   ]
  },
  {
   "cell_type": "code",
   "execution_count": 14,
   "metadata": {},
   "outputs": [
    {
     "data": {
      "text/plain": [
       "array([3.77122202e-08, 3.77122202e-08, 3.77122202e-08, 5.00000000e-06,\n",
       "       5.00000000e-06, 5.00000000e-06, 1.97171717e-06, 1.97171717e-06,\n",
       "       1.97171717e-06, 5.00000000e-11, 5.00000000e-11, 5.00000000e-11,\n",
       "       5.00010000e-06, 5.00010000e-06, 5.00010000e-06, 3.00000000e-06,\n",
       "       3.00000000e-06, 3.00000000e-06])"
      ]
     },
     "execution_count": 14,
     "metadata": {},
     "output_type": "execute_result"
    }
   ],
   "source": [
    "_A_ik"
   ]
  },
  {
   "cell_type": "code",
   "execution_count": 15,
   "metadata": {},
   "outputs": [
    {
     "data": {
      "text/plain": [
       "array([5.65686603e-03, 5.65686603e-03, 5.65686603e-03, 5.00020000e-01,\n",
       "       5.00020000e-01, 5.00020000e-01, 4.20510954e-04, 4.20510954e-04,\n",
       "       4.20510954e-04, 2.23606798e-05, 2.23606798e-05, 2.23606798e-05,\n",
       "       5.00028284e-01, 5.00028284e-01, 5.00028284e-01, 6.05363083e-04,\n",
       "       6.05363083e-04, 6.05363083e-04])"
      ]
     },
     "execution_count": 15,
     "metadata": {},
     "output_type": "execute_result"
    }
   ],
   "source": [
    "_Pe_ik"
   ]
  },
  {
   "cell_type": "code",
   "execution_count": 16,
   "metadata": {},
   "outputs": [
    {
     "data": {
      "text/plain": [
       "array([6.66662778e-06, 6.66662778e-06, 6.66662778e-06, 9.99960002e-06,\n",
       "       9.99960002e-06, 9.99960002e-06, 9.28394364e-06, 9.28394364e-06,\n",
       "       9.28394364e-06, 2.23606798e-06, 2.23606798e-06, 2.23606798e-06,\n",
       "       9.99963434e-06, 9.99963434e-06, 9.99963434e-06, 9.81229309e-06,\n",
       "       9.81229309e-06, 9.81229309e-06])"
      ]
     },
     "execution_count": 16,
     "metadata": {},
     "output_type": "execute_result"
    }
   ],
   "source": [
    "_R_ik"
   ]
  },
  {
   "cell_type": "code",
   "execution_count": 17,
   "metadata": {},
   "outputs": [
    {
     "data": {
      "text/plain": [
       "array([5.65681889e-03, 5.65681889e-03, 5.65681889e-03, 5.00000000e-01,\n",
       "       5.00000000e-01, 5.00000000e-01, 1.93971394e-01, 1.93971394e-01,\n",
       "       1.93971394e-01, 1.00000000e-05, 1.00000000e-05, 1.00000000e-05,\n",
       "       5.00020000e-01, 5.00020000e-01, 5.00020000e-01, 3.00000000e-01,\n",
       "       3.00000000e-01, 3.00000000e-01])"
      ]
     },
     "execution_count": 17,
     "metadata": {},
     "output_type": "execute_result"
    }
   ],
   "source": [
    "_B_ik"
   ]
  },
  {
   "cell_type": "code",
   "execution_count": null,
   "metadata": {},
   "outputs": [],
   "source": []
  }
 ],
 "metadata": {
  "kernelspec": {
   "display_name": "Python 3",
   "language": "python",
   "name": "python3"
  },
  "language_info": {
   "codemirror_mode": {
    "name": "ipython",
    "version": 3
   },
   "file_extension": ".py",
   "mimetype": "text/x-python",
   "name": "python",
   "nbconvert_exporter": "python",
   "pygments_lexer": "ipython3",
   "version": "3.6.0"
  }
 },
 "nbformat": 4,
 "nbformat_minor": 2
}
